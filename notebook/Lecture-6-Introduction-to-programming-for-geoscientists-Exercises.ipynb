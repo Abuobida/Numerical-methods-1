{
 "metadata": {
  "name": "Lecture-6-Introduction-to-programming-for-geoscientists-Exercises"
 },
 "nbformat": 3,
 "nbformat_minor": 0,
 "worksheets": [
  {
   "cells": [
    {
     "cell_type": "heading",
     "level": 1,
     "metadata": {},
     "source": [
      "Introduction to programming for Geoscientists (through Python)"
     ]
    },
    {
     "cell_type": "markdown",
     "metadata": {},
     "source": [
      "#Exercises for Lecture 6: Introduction to classes\n",
      "##Gerard J. Gorman (g.gorman@imperial.ac.uk) http://www.imperial.ac.uk/people/g.gorman"
     ]
    },
    {
     "cell_type": "markdown",
     "metadata": {},
     "source": [
      "* **Make a function class**</br>\n",
      "Make a class called *F* that implements the function\n",
      "\n",
      "$$f(x; a, w) = \\exp(\u2212ax)\\sin(wx).$$\n",
      "\n",
      "A *value(x)* method computes values of *f*, while *a* and *w* are class attributes. Test the class with the following main program:\n"
     ]
    },
    {
     "cell_type": "code",
     "collapsed": false,
     "input": [
      "from math import *\n",
      "f = F(a=1.0, w=0.1)\n",
      "print f.value(x=pi)\n",
      "f.a = 2\n",
      "print f.value(pi)"
     ],
     "language": "python",
     "metadata": {},
     "outputs": []
    },
    {
     "cell_type": "markdown",
     "metadata": {},
     "source": [
      "* **Make a very simple class**</br>\n",
      "Make a class called *Simple* with one attribute *i*, one method *double* which replaces the value of *i* by *i+i*, and a constructor that initializes the attribute. Try out the following code for testing the class:"
     ]
    },
    {
     "cell_type": "code",
     "collapsed": false,
     "input": [
      "s1 = Simple(4)\n",
      "for i in range(4):\n",
      "    s1.double()\n",
      "print s1.i\n",
      "\n",
      "s2 = Simple('Hello')\n",
      "s2.double(); s2.double()\n",
      "print s2.i\n",
      "s2.i = 100\n",
      "print s2.i"
     ],
     "language": "python",
     "metadata": {},
     "outputs": []
    },
    {
     "cell_type": "markdown",
     "metadata": {},
     "source": [
      "Before you run this code, convince yourself what the output of the *print* statements will be."
     ]
    },
    {
     "cell_type": "markdown",
     "metadata": {},
     "source": [
      "* **Extend a class**</br>\n",
      "Add an attribute called *transactions* to the *Account* class given below. The new attribute counts the number of transactions done in the *deposit* and *withdraw* methods. The total number of transactions should be printed in the *dump* method. Write a simple test program to demonstrate that transaction gets the right value after some calls to *deposit* and *withdraw*."
     ]
    },
    {
     "cell_type": "code",
     "collapsed": false,
     "input": [
      "class Account:\n",
      "    def __init__(self, name, account_number, initial_amount):\n",
      "        self.name = name\n",
      "        self.no = account_number\n",
      "        self.balance = initial_amount\n",
      "        \n",
      "    def deposit(self, amount):\n",
      "        self.balance += amount\n",
      "        \n",
      "    def withdraw(self, amount):\n",
      "        self.balance -= amount\n",
      "        \n",
      "    def dump(self):\n",
      "        s = \u2019%s, %s, balance: %s\u2019 % \\\n",
      "        (self.name, self.no, self.balance)\n",
      "        print s"
     ],
     "language": "python",
     "metadata": {},
     "outputs": []
    },
    {
     "cell_type": "markdown",
     "metadata": {},
     "source": [
      "* **Make a class for straight lines**</br>\n",
      "Make a class called *Line* whose constructor takes two points $p_1$ and $p_2$ (2-tuples or 2-lists) as input. The line goes through these two points (see function *line* defined below for the relevant formula of the line). A *value(x)* method computes a value on the line at the point *x*."
     ]
    },
    {
     "cell_type": "code",
     "collapsed": false,
     "input": [
      "def line(x0, y0, x1, y1):\n",
      "    \"\"\"\n",
      "    Compute the coefficients a and b in the mathematical\n",
      "    expression for a straight line y = a*x + b that goes\n",
      "    through two points (x0, y0) and (x1, y1).\n",
      "    x0, y0: a point on the line (floats).\n",
      "    x1, y1: another point on the line (floats).\n",
      "    return: coefficients a, b (floats) for the line (y=a*x+b).\n",
      "    \"\"\"\n",
      "    a = (y1 - y0)/float(x1 - x0)\n",
      "    b = y0 - a*x0\n",
      "    return a, b"
     ],
     "language": "python",
     "metadata": {},
     "outputs": []
    },
    {
     "cell_type": "markdown",
     "metadata": {},
     "source": [
      "* **Make a class for quadratic functions**</br>\n",
      "Consider a quadratic function $f(x; a, b, c) = ax^2 + bx + c$. Make a class called *Quadratic* for representing *f*, where *a*, *b*, and *c* are attributes, and the methods are:\n",
      "\n",
      "1. *value* for computing a value of *f* at a point *x*,\n",
      "2. *table* for writing out a table of *x* and *f* values for n *x* values in the\n",
      "interval *[L, R]*,\n",
      "3. *roots* for computing the two roots."
     ]
    },
    {
     "cell_type": "markdown",
     "metadata": {},
     "source": [
      "* **A very simple \"Hello, World!\" class**</br>\n",
      "Make a class that can only do one thing: *print a* writes \"Hello, World!\" to the screen, where *a* is an instance of the class."
     ]
    },
    {
     "cell_type": "markdown",
     "metadata": {},
     "source": [
      "* **Use special methods**</br>\n",
      "Modify the class from the first exercise such that the following code works:"
     ]
    },
    {
     "cell_type": "code",
     "collapsed": false,
     "input": [
      "f = F2(1.0, 0.1)\n",
      "print f(pi)\n",
      "f.a = 2\n",
      "print f(pi)\n",
      "print f"
     ],
     "language": "python",
     "metadata": {},
     "outputs": []
    }
   ],
   "metadata": {}
  }
 ]
}