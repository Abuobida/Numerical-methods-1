{
 "metadata": {
  "name": ""
 },
 "nbformat": 3,
 "nbformat_minor": 0,
 "worksheets": [
  {
   "cells": [
    {
     "cell_type": "heading",
     "level": 1,
     "metadata": {},
     "source": [
      "Introduction to programming for Geoscientists (through Python)"
     ]
    },
    {
     "cell_type": "markdown",
     "metadata": {},
     "source": [
      "#Lecture 5: Files, strings, and dictionaries\n",
      "\n",
      "[Gerard J. Gorman](http://www.imperial.ac.uk/people/g.gorman) <g.gorman@imperial.ac.uk>\n",
      "\n",
      "Learning objectives: You will learn how to:\n",
      "\n",
      "1. Read data in from a file\n",
      "2. Parse strings to extract specific data of interest.\n",
      "3. Use dictionaries to index data using any type of key."
     ]
    },
    {
     "cell_type": "markdown",
     "metadata": {},
     "source": [
      "##Reading data from a plain text file\n",
      "We can read text from a [text file](http://en.wikipedia.org/wiki/Text_file) into strings in a program. This is a common (and simple) way for a program to get input data. The basic recipe is:"
     ]
    },
    {
     "cell_type": "raw",
     "metadata": {},
     "source": [
      "# Open text file\n",
      "infile = open(\"myfile.dat\", \"r\")\n",
      "\n",
      "# Read next line:\n",
      "line = infile.readline()\n",
      "\n",
      "# Read the lines in a loop one by one:\n",
      "for line in infile:\n",
      "    <process line>\n",
      "\n",
      "# Load all lines into a list of strings:\n",
      "lines = infile.readlines()\n",
      "for line in lines:\n",
      "    <process line>"
     ]
    },
    {
     "cell_type": "markdown",
     "metadata": {},
     "source": [
      "Let's look at an example. You will have downloaded the file data1.txt in the data folder along with these lecture notes. The files has a column of numbers:"
     ]
    },
    {
     "cell_type": "raw",
     "metadata": {},
     "source": [
      "21.8\n",
      "18.1\n",
      "19\n",
      "23\n",
      "26\n",
      "17.8"
     ]
    },
    {
     "cell_type": "markdown",
     "metadata": {},
     "source": [
      "The goal is to read this file and calculate the mean:"
     ]
    },
    {
     "cell_type": "code",
     "collapsed": false,
     "input": [
      "# Open data file\n",
      "infile = open(\"data/data1.txt\", \"r\")\n",
      "\n",
      "# Initialise values\n",
      "mean = 0\n",
      "n=0\n",
      "\n",
      "# Loop to perform sum\n",
      "for number in infile:\n",
      "    number = float(number)\n",
      "    mean = mean + number\n",
      "    n += 1\n",
      "    \n",
      "# It is good practice to close a file when you are finished. \n",
      "infile.close()\n",
      "\n",
      "# Calculate the mean.\n",
      "mean = mean/n\n",
      "print mean"
     ],
     "language": "python",
     "metadata": {},
     "outputs": [
      {
       "output_type": "stream",
       "stream": "stdout",
       "text": [
        "20.95\n"
       ]
      }
     ],
     "prompt_number": 214
    },
    {
     "cell_type": "markdown",
     "metadata": {},
     "source": [
      "Let's make this example more interesting. There is a **lot** of data out there for you to discover all kinds of interesting facts - you just need to be interested in learning a little analysis. For this case I have downloaded tidal gauge data for the port of Avonmouth from the [BODC](http://www.bodc.ac.uk/). If you look at the header of file data/2012AVO.txt you will see the [metadata](http://en.wikipedia.org/wiki/Metadata):"
     ]
    },
    {
     "cell_type": "raw",
     "metadata": {},
     "source": [
      "Port:              P060\n",
      "Site:              Avonmouth\n",
      "Latitude:          51.51089\n",
      "Longitude:         -2.71497\n",
      "Start Date:        01JAN2012-00.00.00\n",
      "End Date:          30APR2012-23.45.00\n",
      "Contributor:       National Oceanography Centre, Liverpool\n",
      "Datum information: The data refer to Admiralty Chart Datum (ACD)\n",
      "Parameter code:    ASLVTD02 = Surface elevation (unspecified datum) of the water body by fixed in-situ pressure sensor"
     ]
    },
    {
     "cell_type": "markdown",
     "metadata": {},
     "source": [
      "Let's read the column ASLVTD02 (the surface elevation) and plot it:"
     ]
    },
    {
     "cell_type": "code",
     "collapsed": false,
     "input": [
      "# Just before starting our program lets tell notebook to inline graphics.\n",
      "%pylab inline"
     ],
     "language": "python",
     "metadata": {},
     "outputs": [
      {
       "output_type": "stream",
       "stream": "stdout",
       "text": [
        "\n",
        "Welcome to pylab, a matplotlib-based Python environment [backend: module://IPython.zmq.pylab.backend_inline].\n",
        "For more information, type 'help(pylab)'.\n"
       ]
      }
     ],
     "prompt_number": 1
    },
    {
     "cell_type": "code",
     "collapsed": false,
     "input": [
      "from pylab import *\n",
      "\n",
      "tide_file = open(\"data/2012AVO.txt\", \"r\")\n",
      "\n",
      "# We know from inspecting the file that the first 11 lines are just\n",
      "# header information so lets just skip those lines.\n",
      "for i in range(11):\n",
      "    line = tide_file.readline()\n",
      "\n",
      "# Initialise an empty list to store the elevation\n",
      "elevation = []\n",
      "days = []\n",
      "\n",
      "# Now we start reading the interesting data\n",
      "n=0\n",
      "while True: # This will keep looping until we break out.\n",
      "    # Here we use a try/except block to try to read the data as normal\n",
      "    # and to break out if unsuccessful - ie when we reach the end of the file. \n",
      "    try:\n",
      "        # Read the next line\n",
      "        line = tide_file.readline()\n",
      "        \n",
      "        # Split this line into words. \n",
      "        words = line.split()\n",
      "        \n",
      "        # If we do not have 5 words then it must be blank lines at the end of the file.\n",
      "        if len(words)!=5:\n",
      "            break\n",
      "    except:\n",
      "        # If we failed to read a line then we must have got to the end.\n",
      "        break\n",
      "    \n",
      "    n+=1 # Count number of data points\n",
      "\n",
      "    try:\n",
      "        # The elevation data is on the 4th column. However, the BODC\n",
      "        # appends a \"M\" when a value is improbable and an \"N\" when\n",
      "        # data is missing (maybe a ship dumped into it during rough weather!)\n",
      "        # Therefore, we put this conversion from a string into a float in a \n",
      "        # try/except block.\n",
      "        level = float(words[3])\n",
      "        elevation.append(level)\n",
      "        \n",
      "        # There is a measurement every quarter hour.\n",
      "        days.append(n*0.25/24) \n",
      "    except:\n",
      "        continue\n",
      "    \n",
      "# For plotting lets convert the list to a NumPy array.\n",
      "elevation = array(elevation)\n",
      "days = array(days)\n",
      "\n",
      "plot(days, elevation)\n",
      "xlabel(\"Days\")\n",
      "ylabel(\"Elevation (meters)\")\n",
      "show()"
     ],
     "language": "python",
     "metadata": {},
     "outputs": [
      {
       "metadata": {},
       "output_type": "display_data",
       "png": "[encoded data removed]",
       "text": [
        "<matplotlib.figure.Figure at 0x10bb11d90>"
       ]
      }
     ],
     "prompt_number": 216
    },
    {
     "cell_type": "markdown",
     "metadata": {},
     "source": [
      "Quiz time:\n",
      "\n",
      "* What tidal constituents can you identify by looking at this plot?\n",
      "* Is this primarily a diurnal or semi-diurnal tidal region? (hint - change the x-axis range on the plot above).\n",
      "\n",
      "You will notice in the above example that we used the *split()* string member function. This is a very useful function for grabbing individual words on a line. When called without any arguments it assumes that the [delimiter](http://en.wikipedia.org/wiki/Delimiter) is a blank space. However, you can use this to split a string with any delimiter, *e.g.*, *line.split(';')*, *line.split(':')*."
     ]
    },
    {
     "cell_type": "markdown",
     "metadata": {},
     "source": [
      "##Python dictionaries\n",
      "Suppose we need to store the temperatures in Oslo, London and Paris. The Python list solution might look like:"
     ]
    },
    {
     "cell_type": "code",
     "collapsed": false,
     "input": [
      "temps = [13, 15.4, 17.5]\n",
      "# temps[0]: Oslo\n",
      "# temps[1]: London\n",
      "# temps[2]: Paris"
     ],
     "language": "python",
     "metadata": {},
     "outputs": [],
     "prompt_number": 217
    },
    {
     "cell_type": "markdown",
     "metadata": {},
     "source": [
      "In this case we need to remember the mapping between the index and the city name. It would be easier to specify name of city to get the temperature. Containers such as list and arrays use a continuous series of integers to index elements. However, for many applications such an integer index is not useful.\n",
      "\n",
      "**Dictionaries** are containers where any Python object can be used\n",
      "as an index. Let's rewrite the previous example using a Python dictionary:"
     ]
    },
    {
     "cell_type": "code",
     "collapsed": false,
     "input": [
      "temps = {\"Oslo\": 13, \"London\": 15.4, \"Paris\": 17.5}\n",
      "print \"The temperature in London is\", temps[\"London\"]"
     ],
     "language": "python",
     "metadata": {},
     "outputs": [
      {
       "output_type": "stream",
       "stream": "stdout",
       "text": [
        "The temperature in London is 15.4\n"
       ]
      }
     ],
     "prompt_number": 218
    },
    {
     "cell_type": "markdown",
     "metadata": {},
     "source": [
      "Add a new element to a dictionary:"
     ]
    },
    {
     "cell_type": "code",
     "collapsed": false,
     "input": [
      "temps[\"Madrid\"] = 26.0\n",
      "print temps"
     ],
     "language": "python",
     "metadata": {},
     "outputs": [
      {
       "output_type": "stream",
       "stream": "stdout",
       "text": [
        "{'Paris': 17.5, 'Oslo': 13, 'London': 15.4, 'Madrid': 26.0}\n"
       ]
      }
     ],
     "prompt_number": 219
    },
    {
     "cell_type": "markdown",
     "metadata": {},
     "source": [
      "Loop (iterate) over a dictionary:"
     ]
    },
    {
     "cell_type": "code",
     "collapsed": false,
     "input": [
      "for city in temps:\n",
      "    print \"The temperature in %s is %g\" % (city, temps[city])"
     ],
     "language": "python",
     "metadata": {},
     "outputs": [
      {
       "output_type": "stream",
       "stream": "stdout",
       "text": [
        "The temperature in Paris is 17.5\n",
        "The temperature in Oslo is 13\n",
        "The temperature in London is 15.4\n",
        "The temperature in Madrid is 26\n"
       ]
      }
     ],
     "prompt_number": 220
    },
    {
     "cell_type": "markdown",
     "metadata": {},
     "source": [
      "The index in a dictionary is called the **key**. A dictionary is said to hold key\u2013value pairs. So in general:"
     ]
    },
    {
     "cell_type": "raw",
     "metadata": {},
     "source": [
      "for key in dictionary:\n",
      "    value = dictionary[key]\n",
      "    print value"
     ]
    },
    {
     "cell_type": "markdown",
     "metadata": {},
     "source": [
      "Does the dictionary have a particular key (*i.e.* a particular data entry)?"
     ]
    },
    {
     "cell_type": "code",
     "collapsed": false,
     "input": [
      "if \"Berlin\" in temps:\n",
      "    print \"We have Berlin and its temperature is \", temps[\"Berlin\"]\n",
      "else:\n",
      "    print \"Me no can give you Berlin hot or cold.\""
     ],
     "language": "python",
     "metadata": {},
     "outputs": [
      {
       "output_type": "stream",
       "stream": "stdout",
       "text": [
        "Me no can give you Berlin hot or cold.\n"
       ]
      }
     ],
     "prompt_number": 221
    },
    {
     "cell_type": "code",
     "collapsed": false,
     "input": [
      "print \"Oslo\" in temps # i.e. standard boolean expression"
     ],
     "language": "python",
     "metadata": {},
     "outputs": [
      {
       "output_type": "stream",
       "stream": "stdout",
       "text": [
        "True\n"
       ]
      }
     ],
     "prompt_number": 222
    },
    {
     "cell_type": "markdown",
     "metadata": {},
     "source": [
      "The keys and values can be reached as lists:"
     ]
    },
    {
     "cell_type": "code",
     "collapsed": false,
     "input": [
      "print \"Keys = \", temps.keys()\n",
      "print \"Values = \", temps.values()"
     ],
     "language": "python",
     "metadata": {},
     "outputs": [
      {
       "output_type": "stream",
       "stream": "stdout",
       "text": [
        "Keys =  ['Paris', 'Oslo', 'London', 'Madrid']\n",
        "Values =  [17.5, 13, 15.4, 26.0]\n"
       ]
      }
     ],
     "prompt_number": 223
    },
    {
     "cell_type": "markdown",
     "metadata": {},
     "source": [
      "Note that the sequence of keys is **arbitrary**! Never rely on it, if you need a specific order of the keys then you should explicitly sort:"
     ]
    },
    {
     "cell_type": "code",
     "collapsed": false,
     "input": [
      "for key in sorted(temps):\n",
      "    value = temps[key]\n",
      "    print key, value"
     ],
     "language": "python",
     "metadata": {},
     "outputs": [
      {
       "output_type": "stream",
       "stream": "stdout",
       "text": [
        "London 15.4\n",
        "Madrid 26.0\n",
        "Oslo 13\n",
        "Paris 17.5\n"
       ]
      }
     ],
     "prompt_number": 224
    },
    {
     "cell_type": "markdown",
     "metadata": {},
     "source": [
      "Remove Oslo key:value:"
     ]
    },
    {
     "cell_type": "code",
     "collapsed": false,
     "input": [
      "del temps[\"Oslo\"] # remove Oslo key w/value\n",
      "print temps, len(temps)"
     ],
     "language": "python",
     "metadata": {},
     "outputs": [
      {
       "output_type": "stream",
       "stream": "stdout",
       "text": [
        "{'Paris': 17.5, 'London': 15.4, 'Madrid': 26.0} 3\n"
       ]
      }
     ],
     "prompt_number": 225
    },
    {
     "cell_type": "markdown",
     "metadata": {},
     "source": [
      "Similarly to what we saw for arrays, two variables can refer to the same dictionary:"
     ]
    },
    {
     "cell_type": "code",
     "collapsed": false,
     "input": [
      "t1 = temps\n",
      "t1[\"Stockholm\"] = 10.0\n",
      "print temps"
     ],
     "language": "python",
     "metadata": {},
     "outputs": [
      {
       "output_type": "stream",
       "stream": "stdout",
       "text": [
        "{'Paris': 17.5, 'London': 15.4, 'Stockholm': 10.0, 'Madrid': 26.0}\n"
       ]
      }
     ],
     "prompt_number": 226
    },
    {
     "cell_type": "markdown",
     "metadata": {},
     "source": [
      "So we can see that while we modified *t1*, the *temps* dictionary was also changed."
     ]
    },
    {
     "cell_type": "markdown",
     "metadata": {},
     "source": [
      "Let's look at a simple example of reading the same data from a file and putting it into a dictionary. We will be reading the file *data/deg2.dat*."
     ]
    },
    {
     "cell_type": "code",
     "collapsed": false,
     "input": [
      "infile = open(\"data/deg2.dat\", \"r\")\n",
      "# Start with empty dictionary\n",
      "temps = {}             \n",
      "for line in infile:\n",
      "    # If you examine the file you will see a ':' after the city name,\n",
      "    # so let's use this as the delimiter for splitting the line.\n",
      "    city, temp = line.split(\":\") \n",
      "    temps[city] = float(temp)\n",
      "infile.close()\n",
      "print temps"
     ],
     "language": "python",
     "metadata": {},
     "outputs": [
      {
       "output_type": "stream",
       "stream": "stdout",
       "text": [
        "{'Paris': 23.0, 'Oslo': 21.8, 'Berlin': 19.0, 'Rome': 26.0, 'London': 18.1}\n"
       ]
      }
     ],
     "prompt_number": 227
    },
    {
     "cell_type": "markdown",
     "metadata": {},
     "source": [
      "##String manipulation\n",
      "Text in Python is represented as **strings**. Programming with strings is therefore the key to interpret text in files and construct new text (*i.e.* **parsing**). First we show some common string operations and then we apply them to real examples. Our sample string used for illustration is:"
     ]
    },
    {
     "cell_type": "code",
     "collapsed": false,
     "input": [
      "s = \"Berlin: 18.4 C at 4 pm\""
     ],
     "language": "python",
     "metadata": {},
     "outputs": [],
     "prompt_number": 228
    },
    {
     "cell_type": "markdown",
     "metadata": {},
     "source": [
      "Strings behave much like lists/tuples - they are simply a sequence of characters:"
     ]
    },
    {
     "cell_type": "code",
     "collapsed": false,
     "input": [
      "print \"s[0] = \", s[0]\n",
      "print \"s[1] = \", s[1]"
     ],
     "language": "python",
     "metadata": {},
     "outputs": [
      {
       "output_type": "stream",
       "stream": "stdout",
       "text": [
        "s[0] =  B\n",
        "s[1] =  e\n"
       ]
      }
     ],
     "prompt_number": 229
    },
    {
     "cell_type": "markdown",
     "metadata": {},
     "source": [
      "Substrings are just slices of lists and arrays:"
     ]
    },
    {
     "cell_type": "code",
     "collapsed": false,
     "input": [
      "# from index 8 to the end of the string\n",
      "print s[8:]"
     ],
     "language": "python",
     "metadata": {},
     "outputs": [
      {
       "output_type": "stream",
       "stream": "stdout",
       "text": [
        "18.4 C at 4 pm\n"
       ]
      }
     ],
     "prompt_number": 230
    },
    {
     "cell_type": "code",
     "collapsed": false,
     "input": [
      "# index 8, 9, 10 and 11 (not 12!)\n",
      "print s[8:12]"
     ],
     "language": "python",
     "metadata": {},
     "outputs": [
      {
       "output_type": "stream",
       "stream": "stdout",
       "text": [
        "18.4\n"
       ]
      }
     ],
     "prompt_number": 231
    },
    {
     "cell_type": "code",
     "collapsed": false,
     "input": [
      "# from index 8 to 8 from the end of the string\n",
      "print s[8:-8]"
     ],
     "language": "python",
     "metadata": {},
     "outputs": [
      {
       "output_type": "stream",
       "stream": "stdout",
       "text": [
        "18.4 C\n"
       ]
      }
     ],
     "prompt_number": 232
    },
    {
     "cell_type": "markdown",
     "metadata": {},
     "source": [
      "You can also find the start of a substring:"
     ]
    },
    {
     "cell_type": "code",
     "collapsed": false,
     "input": [
      "# where does \"Berlin\" start?\n",
      "print s.find(\"Berlin\")"
     ],
     "language": "python",
     "metadata": {},
     "outputs": [
      {
       "output_type": "stream",
       "stream": "stdout",
       "text": [
        "0\n"
       ]
      }
     ],
     "prompt_number": 233
    },
    {
     "cell_type": "code",
     "collapsed": false,
     "input": [
      "print s.find(\"pm\")"
     ],
     "language": "python",
     "metadata": {},
     "outputs": [
      {
       "output_type": "stream",
       "stream": "stdout",
       "text": [
        "20\n"
       ]
      }
     ],
     "prompt_number": 234
    },
    {
     "cell_type": "code",
     "collapsed": false,
     "input": [
      "print s.find(\"Oslo\")"
     ],
     "language": "python",
     "metadata": {},
     "outputs": [
      {
       "output_type": "stream",
       "stream": "stdout",
       "text": [
        "-1\n"
       ]
      }
     ],
     "prompt_number": 235
    },
    {
     "cell_type": "markdown",
     "metadata": {},
     "source": [
      "In this last example, Oslo does not exist in the list so the return value is -1."
     ]
    },
    {
     "cell_type": "markdown",
     "metadata": {},
     "source": [
      "We can also check if a substring is contained in a string:"
     ]
    },
    {
     "cell_type": "code",
     "collapsed": false,
     "input": [
      "print (\"Berlin\" in s)"
     ],
     "language": "python",
     "metadata": {},
     "outputs": [
      {
       "output_type": "stream",
       "stream": "stdout",
       "text": [
        "True\n"
       ]
      }
     ],
     "prompt_number": 236
    },
    {
     "cell_type": "code",
     "collapsed": false,
     "input": [
      "print (\"Oslo\" in s)"
     ],
     "language": "python",
     "metadata": {},
     "outputs": [
      {
       "output_type": "stream",
       "stream": "stdout",
       "text": [
        "False\n"
       ]
      }
     ],
     "prompt_number": 237
    },
    {
     "cell_type": "code",
     "collapsed": false,
     "input": [
      "if \"C\" in s:\n",
      "    print \"C found\"\n",
      "else:\n",
      "    print \"C not found\""
     ],
     "language": "python",
     "metadata": {},
     "outputs": [
      {
       "output_type": "stream",
       "stream": "stdout",
       "text": [
        "C found\n"
       ]
      }
     ],
     "prompt_number": 238
    },
    {
     "cell_type": "markdown",
     "metadata": {},
     "source": [
      "###Search and replace\n",
      "Strings also support substituting a substring by another string. In general this looks like *s.replace(s1, s2)*, which replaces string *s1* in *s* by string *s2*, *e.g.*:"
     ]
    },
    {
     "cell_type": "code",
     "collapsed": false,
     "input": [
      "s = s.replace(\" \", \"_\")\n",
      "print s"
     ],
     "language": "python",
     "metadata": {},
     "outputs": [
      {
       "output_type": "stream",
       "stream": "stdout",
       "text": [
        "Berlin:_18.4_C_at_4_pm\n"
       ]
      }
     ],
     "prompt_number": 239
    },
    {
     "cell_type": "code",
     "collapsed": false,
     "input": [
      "s = s.replace(\"Berlin\", \"Bonn\")\n",
      "print s"
     ],
     "language": "python",
     "metadata": {},
     "outputs": [
      {
       "output_type": "stream",
       "stream": "stdout",
       "text": [
        "Bonn:_18.4_C_at_4_pm\n"
       ]
      }
     ],
     "prompt_number": 240
    },
    {
     "cell_type": "code",
     "collapsed": false,
     "input": [
      "# Replace the text before the first colon by 'London'\n",
      "s = s.replace(s[:s.find(\":\")], \"London\")\n",
      "print s"
     ],
     "language": "python",
     "metadata": {},
     "outputs": [
      {
       "output_type": "stream",
       "stream": "stdout",
       "text": [
        "London:_18.4_C_at_4_pm\n"
       ]
      }
     ],
     "prompt_number": 241
    },
    {
     "cell_type": "markdown",
     "metadata": {},
     "source": [
      "Notice that in all these examples we assign the new result back to *s*. One of the reasons we are doing this is strings are actually constant (*i.e* immutable) and therefore cannot be modified *inplace*. We **cannot** write for example:"
     ]
    },
    {
     "cell_type": "raw",
     "metadata": {},
     "source": [
      "s[18] = '5'\n",
      "TypeError: \"str\" object does not support item assignment"
     ]
    },
    {
     "cell_type": "markdown",
     "metadata": {},
     "source": [
      "We also encountered examples above where we used the split function to break up a line into separate substrings for a given separator (where a space is the default delimiter). Sometimes we want to split a string into lines - *i.e.* the delimiter is the [carriage return](http://en.wikipedia.org/wiki/Carriage_return). This can be surprisingly tricky because different computing platforms (*e.g.* Windows, Linux, Mac) use different characters to represent a carriage return. For example, Unix uses '\\n'. Luckly Python provides a *cross platform* way of doing this so regardless of what platform created the data file, or what platform you are running Python on, it will do the *right thing*: "
     ]
    },
    {
     "cell_type": "code",
     "collapsed": false,
     "input": [
      "t = \"1st line\\n2nd line\\n3rd line\"\n",
      "print \"\"\"original t =\n",
      "\"\"\", t"
     ],
     "language": "python",
     "metadata": {},
     "outputs": [
      {
       "output_type": "stream",
       "stream": "stdout",
       "text": [
        "original t =\n",
        "1st line\n",
        "2nd line\n",
        "3rd line\n"
       ]
      }
     ],
     "prompt_number": 242
    },
    {
     "cell_type": "code",
     "collapsed": false,
     "input": [
      "# This works here but will give you problems if you are switching\n",
      "# files between Windows and either Mac or Linux.\n",
      "print t.split(\"\\n\")"
     ],
     "language": "python",
     "metadata": {},
     "outputs": [
      {
       "output_type": "stream",
       "stream": "stdout",
       "text": [
        "['1st line', '2nd line', '3rd line']\n"
       ]
      }
     ],
     "prompt_number": 243
    },
    {
     "cell_type": "code",
     "collapsed": false,
     "input": [
      "# Cross platform (ie better) solution\n",
      "print t.splitlines()"
     ],
     "language": "python",
     "metadata": {},
     "outputs": [
      {
       "output_type": "stream",
       "stream": "stdout",
       "text": [
        "['1st line', '2nd line', '3rd line']\n"
       ]
      }
     ],
     "prompt_number": 244
    },
    {
     "cell_type": "markdown",
     "metadata": {},
     "source": [
      "###Stripping off leading/trailing whitespace\n",
      "When processing text from a file and composing new strings, we frequently need to trim leading and trailing whitespaces:"
     ]
    },
    {
     "cell_type": "code",
     "collapsed": false,
     "input": [
      "s = \"        text with leading and trailing spaces          \\n\"\n",
      "print \"-->%s<--\"%s.strip()"
     ],
     "language": "python",
     "metadata": {},
     "outputs": [
      {
       "output_type": "stream",
       "stream": "stdout",
       "text": [
        "-->text with leading and trailing spaces<--\n"
       ]
      }
     ],
     "prompt_number": 251
    },
    {
     "cell_type": "code",
     "collapsed": false,
     "input": [
      "# left strip\n",
      "print \"-->%s<--\"%s.lstrip()"
     ],
     "language": "python",
     "metadata": {},
     "outputs": [
      {
       "output_type": "stream",
       "stream": "stdout",
       "text": [
        "-->text with leading and trailing spaces          \n",
        "<--\n"
       ]
      }
     ],
     "prompt_number": 252
    },
    {
     "cell_type": "code",
     "collapsed": false,
     "input": [
      "# right strip\n",
      "print \"-->%s<--\"%s.rstrip()"
     ],
     "language": "python",
     "metadata": {},
     "outputs": [
      {
       "output_type": "stream",
       "stream": "stdout",
       "text": [
        "-->        text with leading and trailing spaces<--\n"
       ]
      }
     ],
     "prompt_number": 253
    },
    {
     "cell_type": "markdown",
     "metadata": {},
     "source": [
      "###join() (the opposite of split())\n",
      "We can join a list of substrings to form a new string. Similarly to *split()* we put strings together with a delimiter inbetween:"
     ]
    },
    {
     "cell_type": "code",
     "collapsed": false,
     "input": [
      "strings = [\"Newton\", \"Secant\", \"Bisection\"]\n",
      "print \", \".join(strings)"
     ],
     "language": "python",
     "metadata": {},
     "outputs": [
      {
       "output_type": "stream",
       "stream": "stdout",
       "text": [
        "Newton, Secant, Bisection\n"
       ]
      }
     ],
     "prompt_number": 254
    },
    {
     "cell_type": "markdown",
     "metadata": {},
     "source": [
      "You can prove to yourself that these are inverse operations:"
     ]
    },
    {
     "cell_type": "raw",
     "metadata": {},
     "source": [
      "t = delimiter.join(stringlist)\n",
      "stringlist = t.split(delimiter)"
     ]
    },
    {
     "cell_type": "markdown",
     "metadata": {},
     "source": [
      "As an example, let's split off the first two words on a line:"
     ]
    },
    {
     "cell_type": "code",
     "collapsed": false,
     "input": [
      "line = \"This is a line of words separated by space\"\n",
      "words = line.split()\n",
      "print \"words = \", words\n",
      "line2 = \" \".join(words[2:])\n",
      "print \"line2 = \", line2"
     ],
     "language": "python",
     "metadata": {},
     "outputs": [
      {
       "output_type": "stream",
       "stream": "stdout",
       "text": [
        "words =  ['This', 'is', 'a', 'line', 'of', 'words', 'separated', 'by', 'space']\n",
        "line2 =  a line of words separated by space\n"
       ]
      }
     ],
     "prompt_number": 255
    },
    {
     "cell_type": "markdown",
     "metadata": {},
     "source": [
      "##File writing\n",
      "\ufffc\ufffc\ufffc\ufffc\ufffcWriting a file in Python is simple. You just collect the text you want to write in one or more strings and, for each string, use a statement along the lines of"
     ]
    },
    {
     "cell_type": "raw",
     "metadata": {},
     "source": [
      "outfile.write(string)"
     ]
    },
    {
     "cell_type": "markdown",
     "metadata": {},
     "source": [
      "The write function does not add a newline character so you may have to do that explicitly:"
     ]
    },
    {
     "cell_type": "raw",
     "metadata": {},
     "source": [
      "outfile.write(string + \u2019\\n\u2019)"
     ]
    },
    {
     "cell_type": "markdown",
     "metadata": {},
     "source": [
      "That\u2019s it! Compose the strings and write! Let's do an example. Write a nested list (table) to a file:"
     ]
    },
    {
     "cell_type": "code",
     "collapsed": false,
     "input": [
      "# Let's define some table of data\n",
      "data = [[ 0.75,        0.29619813, -0.29619813, -0.75      ],\n",
      "        [ 0.29619813,  0.11697778, -0.11697778, -0.29619813],\n",
      "        [-0.29619813, -0.11697778,  0.11697778,  0.29619813],\n",
      "        [-0.75,       -0.29619813,  0.29619813,  0.75      ]]\n",
      "\n",
      "# Open the file for writing. Notice the \"w\" indicates we are writing!\n",
      "outfile = open(\"tmp_table.dat\", \"w\")\n",
      "for row in data:\n",
      "    for column in row:\n",
      "        outfile.write(\"%14.8f\" % column)\n",
      "    outfile.write(\"\\n\")   # ensure newline\n",
      "outfile.close()"
     ],
     "language": "python",
     "metadata": {},
     "outputs": [],
     "prompt_number": 256
    },
    {
     "cell_type": "markdown",
     "metadata": {},
     "source": [
      "And that's it - run the above cell and take a look at the file that was generated in the folder you run IPython from."
     ]
    }
   ],
   "metadata": {}
  }
 ]
}