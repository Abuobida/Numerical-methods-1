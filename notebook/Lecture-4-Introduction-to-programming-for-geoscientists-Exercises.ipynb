{
 "metadata": {
  "name": "Lecture-4-Introduction-to-programming-for-geoscientists-Exercises"
 },
 "nbformat": 3,
 "nbformat_minor": 0,
 "worksheets": [
  {
   "cells": [
    {
     "cell_type": "heading",
     "level": 1,
     "metadata": {},
     "source": [
      "Introduction to programming for Geoscientists (through Python)"
     ]
    },
    {
     "cell_type": "markdown",
     "metadata": {},
     "source": [
      "#Exercises for Lecture 4: Array computing and curve plotting\n",
      "##Gerard J. Gorman (g.gorman@imperial.ac.uk) http://www.imperial.ac.uk/people/g.gorman"
     ]
    },
    {
     "cell_type": "markdown",
     "metadata": {},
     "source": [
      "* **Fill lists with function values**</br>\n",
      "A function with many applications in science is defined as:</br></br>\n",
      "$h(x) = \\frac{1}{\\sqrt{2\\pi}}\\exp(-0.5x^2)$</br></br>\n",
      "Fill lists *xlist* and *hlist* with *x* and *h(x)* values for uniformly spaced *x* coordinates in [\u22124, 4]. You may adapt the first example in the lecture 4 notes."
     ]
    },
    {
     "cell_type": "markdown",
     "metadata": {},
     "source": [
      "* **Fill arrays; loop version**</br>\n",
      "The aim is to fill two arrays *x* and *y* with *x* and *h(x)* values, respectively, where *h(x)* is defined above. Let the *x* values be uniformly spaced in [\u22124, 4]. Use list comprehensions to create the *x* and *y* arrays."
     ]
    },
    {
     "cell_type": "markdown",
     "metadata": {},
     "source": [
      "* **Fill arrays; vectorized version**</br>\n",
      "Vectorize the code in the previous exercise by creating the *x* values using the *linspace* function and by evaluating *h(x)* for an array argument."
     ]
    },
    {
     "cell_type": "markdown",
     "metadata": {},
     "source": [
      "* **Apply a function to a vector**</br>\n",
      "Given a vector $v = (2, 3, \u22121)$ and a function $f(x) = x^3 + xe^x + 1$, apply $f$ to each element in $v$. Then calculate $f(v)$ as $v^3 + ve^v + 1$ using vector computing rules. Show that the two results are equal."
     ]
    },
    {
     "cell_type": "markdown",
     "metadata": {},
     "source": [
      "* **Simulate by hand a vectorized expression**</br>\n",
      "Suppose *x* and *t* are two arrays of the same length, entering a vectorized expression:"
     ]
    },
    {
     "cell_type": "code",
     "collapsed": false,
     "input": [
      "y = cos(sin(x)) + exp(1/t)"
     ],
     "language": "python",
     "metadata": {},
     "outputs": []
    },
    {
     "cell_type": "markdown",
     "metadata": {},
     "source": [
      "If *x* holds two elements, 0 and 2, and *t* holds the elements 1 and 1.5, calculate by hand (using a calculator) the *y* array. Thereafter, write a program that mimics the series of computations you did by hand (use explicit loops, but at the end you can use NumPy functionality to check the results)."
     ]
    },
    {
     "cell_type": "markdown",
     "metadata": {},
     "source": [
      "* **Demonstrate array slicing**</br>\n",
      "Create an array *w* with values 0, 0.1, 0.2, ..., 3. Write out *w[:]*, *w[:-2]*, *w[::5]*, *w[2:-2:6]*. Convince yourself in each case that you understand which elements of the array are printed."
     ]
    },
    {
     "cell_type": "markdown",
     "metadata": {},
     "source": [
      "* **Plot a formula**</br>\n",
      "Make a plot of the function $y(t) = v_0t \u2212 0.5gt^2$ for $v_0 = 10$, $g = 9.81$, and $t \\in [0, 2v_0/g]$. The label on the *x* axis should be 'time (s)' and the label on the *y* axis should be 'height (m)'."
     ]
    },
    {
     "cell_type": "markdown",
     "metadata": {},
     "source": [
      "* **Specify the x and y axes**</br>\n",
      "Extend the program from the previous exercise such that the minimum and maximum *x* and *y* values are computed, and use the extreme values to specify the extent of the *x* and *y* axes. Add some space above the heighest curve."
     ]
    },
    {
     "cell_type": "markdown",
     "metadata": {},
     "source": [
      "* **Plot a formula for several parameters**</br>\n",
      "Make a program that reads a set of $v_0$ values using raw_input and plots the corresponding curves $y(t) = v_0t \u2212 0.5gt^2$ in the same figure (set $g = 9.81$). Let $t \\in [0, 2v_0/g$] for each curve, which implies that you need a different vector of $t$ coordinates for each curve."
     ]
    },
    {
     "cell_type": "markdown",
     "metadata": {},
     "source": [
      "* **Plot another formula**</br>\n",
      "The function</br></br>\n",
      "$f(x, t) = \\exp(-(x - 3t)^2)\\sin(3\\pi(x - t))$\n",
      "</br></br>\n",
      "describes, for a fixed value of *t*, a wave localized in space. Make a program that visualizes this function as a function of *x* on the interval [\u22124, 4] when *t* = 0."
     ]
    },
    {
     "cell_type": "markdown",
     "metadata": {},
     "source": [
      "* **Implement matrix-vector multiplication**</br>\n",
      "A matrix $\\mathbf{A}$ and a vector $\\mathbf{b}$, represented in Python as a 2D array and a 1D array respectively, are given by:\n",
      "\n",
      "$$\n",
      "\\mathbf{A} = \\left\\lbrack\\begin{array}{ccc}\n",
      "0 & 12 & -1\\cr\n",
      "-1 & -1 & -1\\cr\n",
      "11 & 5 & 5\n",
      "\\end{array}\\right\\rbrack\n",
      "$$\n",
      "\n",
      "$$\n",
      "\\mathbf{b} = \\left\\lbrack\\begin{array}{c}\n",
      "-2\\cr\n",
      "1\\cr\n",
      "7\n",
      "\\end{array}\\right\\rbrack\n",
      "$$\n",
      "\n",
      "Multiplying a matrix by a vector results in another vector $\\mathbf{c}$, whose components are defined by the general rule\n",
      "\n",
      "$$\\mathbf{c}_i = \\sum_j\\mathbf{A}_{i,j}\\mathbf{b}_j$$\n",
      "\n",
      "Define $\\mathbf{A}$ and $\\mathbf{b}$ as NumPy arrays, and multiply them together using the above rule."
     ]
    }
   ],
   "metadata": {}
  }
 ]
}