{
 "metadata": {
  "name": "Lecture-1-Introduction-to-programming-for-geoscientists-Solutions"
 },
 "nbformat": 3,
 "nbformat_minor": 0,
 "worksheets": [
  {
   "cells": [
    {
     "cell_type": "heading",
     "level": 1,
     "metadata": {},
     "source": [
      "Introduction to programming for Geoscientists (through Python)"
     ]
    },
    {
     "cell_type": "markdown",
     "metadata": {},
     "source": [
      "#Solutions to Lecture 1 Exercises: Computing with formulas\n",
      "##Gerard J. Gorman (g.gorman@imperial.ac.uk) http://www.imperial.ac.uk/people/g.gorman"
     ]
    },
    {
     "cell_type": "markdown",
     "metadata": {},
     "source": [
      "* **Compute the growth of money in a bank**</br>\n",
      "Let *p* be a bank's interest rate in percent per year. An initial amount *A* has then grown to $$A\\left(1+\\frac{p}{100}\\right)^n$$ after *n* years. Write a program for computing how much money 1000 euros have grown to after three years with a 5% interest rate."
     ]
    },
    {
     "cell_type": "code",
     "collapsed": false,
     "input": [
      "# Solution\n",
      "\n",
      "p = 5 # Interest rate in percent per year\n",
      "A = 1000.0 # Initial amount of money in euros\n",
      "n = 3 # Number of years since initial deposit\n",
      "\n",
      "amount = A*(1 + p/100.0)**n\n",
      "\n",
      "print \"The amount of money in the account after %d years is: %.2f euros\" % (n, amount)"
     ],
     "language": "python",
     "metadata": {},
     "outputs": [
      {
       "output_type": "stream",
       "stream": "stdout",
       "text": [
        "The amount of money in the account after 3 years is: 1157.63 euros\n"
       ]
      }
     ],
     "prompt_number": 1
    },
    {
     "cell_type": "markdown",
     "metadata": {},
     "source": [
      "* **Find error(s) in a program**</br>\n",
      "Suppose somebody has written the simple one-line program below for computing $\\sin(1)$. Try to run this program. What is the problem? Try to fix it. (Reminder - the math function needs to be imported)."
     ]
    },
    {
     "cell_type": "code",
     "collapsed": true,
     "input": [
      "# Broken program\n",
      "x=1; print 'sin(%g)=%g' % (x, sin(x))"
     ],
     "language": "python",
     "metadata": {},
     "outputs": [],
     "prompt_number": 9
    },
    {
     "cell_type": "code",
     "collapsed": false,
     "input": [
      "# Fixed program (Solution). You must import the 'sin' function from the 'math' module.\n",
      "from math import sin\n",
      "x=1; print 'sin(%g)=%g' % (x, sin(x))"
     ],
     "language": "python",
     "metadata": {},
     "outputs": [
      {
       "output_type": "stream",
       "stream": "stdout",
       "text": [
        "sin(1)=0.841471\n"
       ]
      }
     ],
     "prompt_number": 1
    },
    {
     "cell_type": "markdown",
     "metadata": {},
     "source": [
      "* **Evaluate a Gaussian function**</br>\n",
      "The bell-shaped Gaussian function,\n",
      "$$f(x)=\\frac{1}{\\sqrt{2\\pi}s}\\exp\\left(-\\frac{1}{2} \\left(\\frac{x-m}{s}\\right)^2\\right)$$\n",
      "is one of the most widely used functions in science and technology. The parameters $m$ and $s$ are real numbers, where $s$ must be greater than zero. Write a program for evaluating this function when $m = 0$, $s = 2$, and $x = 1$. Verify the program's result by comparing with hand calculations on a calculator."
     ]
    },
    {
     "cell_type": "code",
     "collapsed": false,
     "input": [
      "# Solution\n",
      "\n",
      "from math import exp, pi, sqrt\n",
      "\n",
      "# Parameters.\n",
      "m = 0.0 # The mean\n",
      "s = 2.0 # The standard deviation\n",
      "x = 1.0\n",
      "coefficient = 1.0/(sqrt(2*pi)*s)\n",
      "result = coefficient*exp(-0.5*((x - m)/s)**2) # Need to make sure that one (or all of) x, m, and s are floating-point numbers, otherwise we will encounter integer division problems.\n",
      "print \"The value of the Gaussian function with x = %.2f is %.4f\" % (x, result)"
     ],
     "language": "python",
     "metadata": {},
     "outputs": [
      {
       "output_type": "stream",
       "stream": "stdout",
       "text": [
        "The value of the Gaussian function with x = 1.00 is 0.1760\n"
       ]
      }
     ],
     "prompt_number": 6
    },
    {
     "cell_type": "code",
     "collapsed": false,
     "input": [
      "# Alternative Solution. This uses two concepts that will be covered\n",
      "# in later lectures: 1) Python functions, and 2) casting.\n",
      "\n",
      "from math import exp, pi, sqrt\n",
      "\n",
      "def f(x):\n",
      "    # Parameters. These could be given to the function as arguments.\n",
      "    m = 0 # The mean\n",
      "    s = 2 # The standard deviation\n",
      "    coefficient = 1/(sqrt(2*pi)*s)\n",
      "    # Be careful here. x, m, and s are supplied as integers - let's\n",
      "    # cast the numerator to a float to ensure we don't encounter\n",
      "    # integer division problems.\n",
      "    result = coefficient*exp(-0.5*(float(x - m)/s)**2)\n",
      "    return result\n",
      "\n",
      "x = 1\n",
      "print \"The value of the Gaussian function with x = %.2f is %.4f\" % (x, f(x))"
     ],
     "language": "python",
     "metadata": {},
     "outputs": [
      {
       "output_type": "stream",
       "stream": "stdout",
       "text": [
        "The value of the Gaussian function with x = 1.00 is 0.1760\n"
       ]
      }
     ],
     "prompt_number": 7
    },
    {
     "cell_type": "markdown",
     "metadata": {},
     "source": [
      "* **Compute the air resistance on a football**</br>\n",
      "The drag force, due to air resistance, on an object can be expressed as\n",
      "$$F_d = \\frac{1}{2}C_D\\rho AV^2$$\n",
      "where $\\rho$ is the density of the air, $V$ is the velocity of the object, $A$ is the cross-sectional area (normal to the velocity direction), and $C_D$ is the drag coefficient, which depends heavily on the shape of the object and the roughness of the surface.</br></br>\n",
      "The gravity force on an object with mass $m$ is $F_g = mg$, where $g = 9.81ms^{\u22122}$.</br></br>\n",
      "Write a program that computes the drag force and the gravity force on an object. Write out the forces with one decimal in units of Newton ($N = kgm/s^2$). Also print the ratio of the drag force and the gravity force. Define $C_D$, $\\rho$, $A$, $V$, $m$, $g$, $F_d$, and $F_g$ as variables, and put a comment with the corresponding unit.</br></br>\n",
      "As a computational example, you can initialize all variables with values relevant for a football kick. The density of air is $\\rho = 1.2 kg m^{\u22123}$. For any ball, we have obviously that $A = \\pi a^2$, where $a$ is the radius of the ball, which can be taken as $11cm$ for a football. The mass of the ball is $0.43kg$. $C_D$ can be taken as $0.2$.</br></br>\n",
      "Use the program to calculate the forces on the ball for a hard kick, $V = 120km/h$ and for a soft kick, $V = 10km/h$ (it is easy to make the mistake of mixing inconsistent units, so make sure you compute with V expressed in m/s)."
     ]
    },
    {
     "cell_type": "code",
     "collapsed": false,
     "input": [
      "# Solution\n",
      "\n",
      "from math import pi\n",
      "\n",
      "density = 1.2 # The density of air, in kg/(m**3)\n",
      "mass = 0.43 # Mass of the ball, in kg\n",
      "a = 0.11 # Radius of the ball, in m\n",
      "A = pi*(a**2) # Cross-sectional area (m**2)\n",
      "drag_coefficient = 0.2 # Non-dimensional\n",
      "g = 9.81 # Acceleration due to gravity, in m/(s**2)\n",
      "\n",
      "F_g = mass*g # Force due to gravity - independent of the velocity\n",
      "print \"The force due to gravity is %.1f N\" % F_g\n",
      "\n",
      "V_hard = 33.333333333 # Velocity of the ball after a hard kick, converted from km/h to m/s\n",
      "F_d = 0.5*drag_coefficient*density*A*(V_hard**2) # Drag force acting on the ball\n",
      "print \"The drag force acting on the ball after a hard kick is %.1f N\" % F_d\n",
      "print \"The ratio of the drag force and the gravitational force is %.1f\" % (F_d/F_g)\n",
      "\n",
      "V_soft = 2.777777778 # Velocity of the ball after a hard kick, converted from km/h to m/s\n",
      "F_d = 0.5*drag_coefficient*density*A*(V_soft**2) # Drag force acting on the ball\n",
      "print \"The drag force acting on the ball after a soft kick is %.1f N\" % F_d # The drag force will be so small that this prints out as \"0.0 N\"\n",
      "print \"The ratio of the drag force and the gravitational force is %.1f\" % (F_d/F_g)\n"
     ],
     "language": "python",
     "metadata": {},
     "outputs": [
      {
       "output_type": "stream",
       "stream": "stdout",
       "text": [
        "The force due to gravity is 4.2 N\n",
        "The drag force acting on the ball after a hard kick is 5.1 N\n",
        "The ratio of the drag force and the gravitational force is 1.2\n",
        "The drag force acting on the ball after a soft kick is 0.0 N\n",
        "The ratio of the drag force and the gravitational force is 0.0\n"
       ]
      }
     ],
     "prompt_number": 2
    },
    {
     "cell_type": "markdown",
     "metadata": {},
     "source": [
      "* **Find errors in the coding of a formula**</br>\n",
      "Given a quadratic equation,\n",
      "$$ax^2 + bx + c = 0,$$\n",
      "$$x1 = \u2212b+\\frac{\\sqrt{b^2 \u22124ac}}{2a},$$ and\n",
      "$$x2 = \u2212b\u2212\\frac{\\sqrt{b^2 \u22124ac}}{2a}.$$\n",
      "Why does the following program not work correctly?"
     ]
    },
    {
     "cell_type": "code",
     "collapsed": false,
     "input": [
      "# Original program\n",
      "a = 2; b = 1; c = 2\n",
      "from math import sqrt\n",
      "q = sqrt(b*b - 4*a*c)\n",
      "x1 = (-b + q)/2*a\n",
      "x2 = (-b - q)/2*a\n",
      "print x1, x2"
     ],
     "language": "python",
     "metadata": {},
     "outputs": [
      {
       "ename": "ValueError",
       "evalue": "math domain error",
       "output_type": "pyerr",
       "traceback": [
        "\u001b[0;31m---------------------------------------------------------------------------\u001b[0m\n\u001b[0;31mValueError\u001b[0m                                Traceback (most recent call last)",
        "\u001b[0;32m<ipython-input-4-f7e0d7ce3ef0>\u001b[0m in \u001b[0;36m<module>\u001b[0;34m()\u001b[0m\n\u001b[1;32m      1\u001b[0m \u001b[0ma\u001b[0m \u001b[0;34m=\u001b[0m \u001b[0;36m2\u001b[0m\u001b[0;34m;\u001b[0m \u001b[0mb\u001b[0m \u001b[0;34m=\u001b[0m \u001b[0;36m1\u001b[0m\u001b[0;34m;\u001b[0m \u001b[0mc\u001b[0m \u001b[0;34m=\u001b[0m \u001b[0;36m2\u001b[0m\u001b[0;34m\u001b[0m\u001b[0m\n\u001b[1;32m      2\u001b[0m \u001b[0;32mfrom\u001b[0m \u001b[0mmath\u001b[0m \u001b[0;32mimport\u001b[0m \u001b[0msqrt\u001b[0m\u001b[0;34m\u001b[0m\u001b[0m\n\u001b[0;32m----> 3\u001b[0;31m \u001b[0mq\u001b[0m \u001b[0;34m=\u001b[0m \u001b[0msqrt\u001b[0m\u001b[0;34m(\u001b[0m\u001b[0mb\u001b[0m\u001b[0;34m*\u001b[0m\u001b[0mb\u001b[0m \u001b[0;34m-\u001b[0m \u001b[0;36m4\u001b[0m\u001b[0;34m*\u001b[0m\u001b[0ma\u001b[0m\u001b[0;34m*\u001b[0m\u001b[0mc\u001b[0m\u001b[0;34m)\u001b[0m\u001b[0;34m\u001b[0m\u001b[0m\n\u001b[0m\u001b[1;32m      4\u001b[0m \u001b[0mx1\u001b[0m \u001b[0;34m=\u001b[0m \u001b[0;34m(\u001b[0m\u001b[0;34m-\u001b[0m\u001b[0mb\u001b[0m \u001b[0;34m+\u001b[0m \u001b[0mq\u001b[0m\u001b[0;34m)\u001b[0m\u001b[0;34m/\u001b[0m\u001b[0;36m2\u001b[0m\u001b[0;34m*\u001b[0m\u001b[0ma\u001b[0m\u001b[0;34m\u001b[0m\u001b[0m\n\u001b[1;32m      5\u001b[0m \u001b[0mx2\u001b[0m \u001b[0;34m=\u001b[0m \u001b[0;34m(\u001b[0m\u001b[0;34m-\u001b[0m\u001b[0mb\u001b[0m \u001b[0;34m-\u001b[0m \u001b[0mq\u001b[0m\u001b[0;34m)\u001b[0m\u001b[0;34m/\u001b[0m\u001b[0;36m2\u001b[0m\u001b[0;34m*\u001b[0m\u001b[0ma\u001b[0m\u001b[0;34m\u001b[0m\u001b[0m\n",
        "\u001b[0;31mValueError\u001b[0m: math domain error"
       ]
      }
     ],
     "prompt_number": 4
    },
    {
     "cell_type": "code",
     "collapsed": false,
     "input": [
      "# Solution\n",
      "a = 2; b = 5; c = 2\n",
      "from math import sqrt\n",
      "q = sqrt(b*b - 4*a*c) # The error above was caused by taking the square root of a negative number. Try changing b to 5.\n",
      "x1 = -b + q/(2*a) # You need to make sure that -b is not divided by 2*a, and also include brackets in the denominator...\n",
      "x2 = -b - q/(2*a) # ...and again here. This is because of operator precedence.\n",
      "print x1, x2"
     ],
     "language": "python",
     "metadata": {},
     "outputs": [
      {
       "output_type": "stream",
       "stream": "stdout",
       "text": [
        "-4.25 -5.75\n"
       ]
      }
     ],
     "prompt_number": 1
    },
    {
     "cell_type": "markdown",
     "metadata": {},
     "source": [
      "* **Convert from meters to British length units**</br>\n",
      "Make a program where you set a length given in meters and then compute and write out the corresponding length measured in inches, in feet, in yards, and in miles. Use the fact that one inch is 2.54 cm, one foot is 12 inches, one yard is 3 feet, and one British mile is 1760 yards. As a verification, a length of 640 meters corresponds to 25196.85 inches, 2099.74 feet, 699.91 yards, or 0.3977 miles."
     ]
    },
    {
     "cell_type": "code",
     "collapsed": false,
     "input": [
      "# Solution\n",
      "\n",
      "meters = 640\n",
      "\n",
      "inches = meters/0.0254 # 1 inch = 2.54 cm. Remember to convert from 2.54 cm to 0.0254 m here.\n",
      "print \"%.4f meters = %.4f inches\" % (meters, inches)\n",
      "\n",
      "feet = inches/12.0 # 1 foot = 12 inches\n",
      "print \"%.4f meters = %.4f feet\" % (meters, feet)\n",
      "\n",
      "yards = feet/3.0 # 1 yard = 3 feet\n",
      "print \"%.4f meters = %.4f yards\" % (meters, yards)\n",
      "\n",
      "miles = yards/1760.0 # 1 yard = 1760 miles\n",
      "print \"%.4f meters = %.4f miles\" % (meters, miles)"
     ],
     "language": "python",
     "metadata": {},
     "outputs": [
      {
       "output_type": "stream",
       "stream": "stdout",
       "text": [
        "640.0000 meters = 25196.8504 inches\n",
        "640.0000 meters = 2099.7375 feet\n",
        "640.0000 meters = 699.9125 yards\n",
        "640.0000 meters = 0.3977 miles\n"
       ]
      }
     ],
     "prompt_number": 1
    }
   ],
   "metadata": {}
  }
 ]
}