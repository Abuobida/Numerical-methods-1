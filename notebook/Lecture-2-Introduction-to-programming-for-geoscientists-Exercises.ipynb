{
 "metadata": {
  "name": ""
 },
 "nbformat": 3,
 "nbformat_minor": 0,
 "worksheets": [
  {
   "cells": [
    {
     "cell_type": "heading",
     "level": 1,
     "metadata": {},
     "source": [
      "Introduction to programming for Geoscientists (through Python)"
     ]
    },
    {
     "cell_type": "markdown",
     "metadata": {},
     "source": [
      "#Exercises for Lecture 2: Computing with basic language constructions\n",
      "\n",
      "[Gerard J. Gorman](http://www.imperial.ac.uk/people/g.gorman) <g.gorman@imperial.ac.uk>"
     ]
    },
    {
     "cell_type": "markdown",
     "metadata": {},
     "source": [
      "* **Make a Fahrenheit-Celsius conversion table**</br>\n",
      "Write a program that prints out a table with Fahrenheit degrees 0, 10, 20, ..., 100 in the first column and the corresponding Celsius degrees in the second column."
     ]
    },
    {
     "cell_type": "markdown",
     "metadata": {},
     "source": [
      "* **Write an approximate Fahrenheit-Celsius conversion table**</br>\n",
      "Many people use an approximate formula for quickly converting Fahrenheit ($F$) to Celsius ($C$) degrees:</br></br>\n",
      "$C \\approx \\hat{C} = \\frac{F \u2212 30}{2}$</br></br>\n",
      "Modify the program from the previous exercise so that it prints three columns: $F$, $C$, and the approximate value $\\hat{C}$."
     ]
    },
    {
     "cell_type": "markdown",
     "metadata": {},
     "source": [
      "* **Values of boolean expressions**</br>\n",
      "Explain the outcome of each of the following boolean expressions:"
     ]
    },
    {
     "cell_type": "code",
     "collapsed": false,
     "input": [
      "C = 41\n",
      "\n",
      "C == 40\n",
      "C != 40 and C < 41\n",
      "C != 40 or C < 41\n",
      "not C == 40\n",
      "not C > 40\n",
      "C <= 41\n",
      "not False\n",
      "True and False\n",
      "False or True\n",
      "False or False or False\n",
      "True and True and False\n",
      "False == 0\n",
      "True == 0\n",
      "True == 1"
     ],
     "language": "python",
     "metadata": {},
     "outputs": []
    },
    {
     "cell_type": "markdown",
     "metadata": {},
     "source": [
      "* **Generate odd numbers**</br>\n",
      "Write a program that generates all odd numbers from 1 to *n*. Set *n* in the beginning of the program and use a while loop to compute the numbers. (Make sure that if *n* is an even number, the largest generated odd number is *n*-1.)."
     ]
    },
    {
     "cell_type": "markdown",
     "metadata": {},
     "source": [
      "* **Store odd numbers in a list**</br>\n",
      "Modify the program from the previous exercise to store the generated odd numbers in a list. Start with an empty list and use a while loop where you in each pass of the loop append a new element to the list. Finally, print the list elements to the screen."
     ]
    },
    {
     "cell_type": "markdown",
     "metadata": {},
     "source": [
      "* **Generate odd numbers by a list comprehension**</br>\n",
      "Solve the exercise above using a list comprehension (with *for* and *range*)."
     ]
    },
    {
     "cell_type": "markdown",
     "metadata": {},
     "source": [
      "* **Make a table of function values**</br>\n",
      "Write a program that prints a table with $t$ values in the first column and the corresponding $y(t) = v_0 t \u2212 0.5gt^2$ values in the second column.\n",
      "Use $n$ uniformly spaced $t$ values throughout the interval [0, $2v_0/g$]. Set $v0 = 1$, $g = 9.81$, and $n = 11$."
     ]
    },
    {
     "cell_type": "markdown",
     "metadata": {},
     "source": [
      "* **Store numbers in lists**</br>\n",
      "Modify the program from the previous exercise so that the $t$ and $y$ values are stored in two lists *t* and *y*. Thereafter, transverse the lists with a *for* loop and write out a nicely formatted table of *t* and *y* values (using either a *zip* or *range* construction)."
     ]
    },
    {
     "cell_type": "markdown",
     "metadata": {},
     "source": [
      "* **Work with a list**</br>\n",
      "Set a variable called *primes* to a list containing the numbers 2, 3, 5, 7, 11, and 13. Write out each list element in a *for* loop. Assign 17 to a variable *p* and add *p* to the end of the list. Print out the whole new list. "
     ]
    },
    {
     "cell_type": "markdown",
     "metadata": {},
     "source": [
      "* **Generate equally spaced coordinates**</br>\n",
      "We want to generate $x$ coordinates between 1 and 2 with spacing 0.01. The coordinates are given by the formula $x_i = 1 + ih$, where $h$ = 0.01 and $i$ runs over integers 0, 1, ..., 100. Compute the $x_i$ values and store them in a list. Use a *for* loop, and append each new $x_i$ value to a list, which is empty initially."
     ]
    },
    {
     "cell_type": "markdown",
     "metadata": {},
     "source": [
      "* **Implement a Gaussian function**</br>\n",
      "Make a Python function *gauss*( *x*, *m*=0, *s*=1) for computing the Gaussian function \n",
      "$$f(x)=\\frac{1}{\\sqrt{2\\pi}s}\\exp\\left(-\\frac{1}{2} \\left(\\frac{x-m}{s}\\right)^2\\right)$$\n",
      "Call the function and print out the result for x equal to \u22125, \u22124.9, \u22124.8, ..., 4.8, 4.9, 5, using default values for *m* and *s*."
     ]
    },
    {
     "cell_type": "markdown",
     "metadata": {},
     "source": [
      "* **Express a step function as a Python function**</br>\n",
      "The following \"step\" function is known as the Heaviside function and\n",
      "is widely used in mathematics:\n",
      "$$H(x)=\\begin{cases}0, & \\text{if $x<0$}.\\\\\\\\\n",
      "1, & \\text{if $x\\ge 0$}.\\end{cases}$$\n",
      "Write a Python function H(x) that computes H(x)."
     ]
    },
    {
     "cell_type": "markdown",
     "metadata": {},
     "source": [
      "* **Write a function for numerical differentiation**</br>\n",
      "The formula\n",
      "$$f^\\prime(x) \\approx \\frac{f(x+h) - f(x-h)}{2h}$$\n",
      "can be used to find an approximate derivative of a mathematical function f(x) if h is small. Write a function *diff*( *f*, *x*, *h*=1E-6) that returns the approximation of the derivative of a mathematical function represented by a Python function f(x).</br></br>\n",
      "Apply the above formula to differentiate $f(x) = e^x$ at x = 0, $f(x) = e^{\u22122x}$ at\n",
      "x = 0, $f(x) = \\cos(x)$ at x = 2$\\pi$ , and $f(x) = \\ln(x)$ at x = 1. Use h = 0.01. In each case, write out the error, i.e., the difference between the exact derivative and the result of the formula above.\n"
     ]
    }
   ],
   "metadata": {}
  }
 ]
}